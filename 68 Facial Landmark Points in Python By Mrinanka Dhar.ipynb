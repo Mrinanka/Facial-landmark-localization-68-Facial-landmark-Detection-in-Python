{
 "cells": [
  {
   "cell_type": "code",
   "execution_count": null,
   "metadata": {
    "executionInfo": {
     "elapsed": 367,
     "status": "ok",
     "timestamp": 1639166290104,
     "user": {
      "displayName": "Mrinanka Dhar",
      "photoUrl": "https://lh3.googleusercontent.com/a-/AOh14GhaxYh2M6u-1nBqxUSt69H9Cj0fQ8K3DeD4IdubBg=s64",
      "userId": "10464217958333572951"
     },
     "user_tz": -330
    },
    "id": "XY5Zdb8ur9pd"
   },
   "outputs": [],
   "source": [
    "import dlib,cv2\n",
    "import numpy as np\n",
    "from skimage import io\n",
    "import os\n",
    "import matplotlib.pyplot as plt\n"
   ]
  },
  {
   "cell_type": "code",
   "execution_count": null,
   "metadata": {
    "executionInfo": {
     "elapsed": 455,
     "status": "ok",
     "timestamp": 1639173921129,
     "user": {
      "displayName": "Mrinanka Dhar",
      "photoUrl": "https://lh3.googleusercontent.com/a-/AOh14GhaxYh2M6u-1nBqxUSt69H9Cj0fQ8K3DeD4IdubBg=s64",
      "userId": "10464217958333572951"
     },
     "user_tz": -330
    },
    "id": "5-sZ0bIazbLp"
   },
   "outputs": [],
   "source": [
    "# This below mehtod will draw all those points which are from 0 to 67 on face one by one.\n",
    "def drawPoints(image, faceLandmarks, startpoint, endpoint, isClosed=False):\n",
    "  points = []\n",
    "  for i in range(startpoint, endpoint+1):\n",
    "    point = [faceLandmarks.part(i).x, faceLandmarks.part(i).y]\n",
    "    points.append(point)\n",
    "\n",
    "  points = np.array(points, dtype=np.int32)\n",
    "  cv2.polylines(image, [points], isClosed, (255, 200, 0), thickness=2, lineType=cv2.LINE_8)\n",
    "\n",
    "# Use this function for 70-points facial landmark detector model\n",
    "# we are checking if points are exactly equal to 68, then we draw all those points on face one by one\n",
    "def facePoints(image, faceLandmarks):\n",
    "    assert(faceLandmarks.num_parts == 68)\n",
    "    drawPoints(image, faceLandmarks, 0, 16)           # Jaw line\n",
    "    drawPoints(image, faceLandmarks, 17, 21)          # Left eyebrow\n",
    "    drawPoints(image, faceLandmarks, 22, 26)          # Right eyebrow\n",
    "    drawPoints(image, faceLandmarks, 27, 30)          # Nose bridge\n",
    "    drawPoints(image, faceLandmarks, 30, 35, True)    # Lower nose\n",
    "    drawPoints(image, faceLandmarks, 36, 41, True)    # Left eye\n",
    "    drawPoints(image, faceLandmarks, 42, 47, True)    # Right Eye\n",
    "    drawPoints(image, faceLandmarks, 48, 59, True)    # Outer lip\n",
    "    drawPoints(image, faceLandmarks, 60, 67, True)    # Inner lip\n",
    "\n",
    "# Use this function for any model other than\n",
    "# 70 points facial_landmark detector model\n",
    "def facePoints2(image, faceLandmarks, color=(0, 255, 0), radius=4):\n",
    "  for p in faceLandmarks.parts():\n",
    "    cv2.circle(im, (p.x, p.y), radius, color, -1)\n",
    "def writeFaceLandmarksToLocalFile(faceLandmarks, fileName):\n",
    "    with open(fileName, 'w') as f:\n",
    "        for p in faceLandmarks.parts():\n",
    "            f.write(\"%s %s\\n\" %(int(p.x),int(p.y)))\n",
    "\n",
    "    f.close()\n",
    "\n",
    "#Load images in the form of array\n",
    "def load_images(images_list, width, height):\n",
    "    data = np.zeros((len(images_list), width, height), dtype=np.int16)  # Creating Array of image\n",
    "    for index, image in enumerate(images_list):\n",
    "        img = cv2.imread(image)\n",
    "        image_data = cv2.cvtColor(img, cv2.COLOR_BGR2GRAY)\n",
    "        data[index, :, :] = image_data  # placing image in array\n",
    "    return data.astype('uint8')\n"
   ]
  },
  {
   "cell_type": "code",
   "execution_count": null,
   "metadata": {
    "executionInfo": {
     "elapsed": 3997,
     "status": "ok",
     "timestamp": 1639164939347,
     "user": {
      "displayName": "Mrinanka Dhar",
      "photoUrl": "https://lh3.googleusercontent.com/a-/AOh14GhaxYh2M6u-1nBqxUSt69H9Cj0fQ8K3DeD4IdubBg=s64",
      "userId": "10464217958333572951"
     },
     "user_tz": -330
    },
    "id": "Hq2TX2Xs1-ra"
   },
   "outputs": [],
   "source": [
    "# location of the model (path of the model).\n",
    "Model_PATH = \"/content/drive/MyDrive/shape_predictor_68_face_landmarks.dat\"\n",
    "\n",
    "\n",
    "# now from the dlib we are extracting the method get_frontal_face_detector()\n",
    "# and assign that object result to frontalFaceDetector to detect face from the image with \n",
    "# the help of the 68_face_landmarks.dat model\n",
    "frontalFaceDetector = dlib.get_frontal_face_detector()\n",
    "\n",
    "\n",
    "# Now the dlip shape_predictor class will take model and with the help of that, it will show \n",
    "faceLandmarkDetector = dlib.shape_predictor(Model_PATH)"
   ]
  },
  {
   "cell_type": "markdown",
   "metadata": {
    "id": "yCA3YlCwziPz"
   },
   "source": [
    "**begin**"
   ]
  },
  {
   "cell_type": "code",
   "execution_count": null,
   "metadata": {
    "executionInfo": {
     "elapsed": 385,
     "status": "ok",
     "timestamp": 1639167977505,
     "user": {
      "displayName": "Mrinanka Dhar",
      "photoUrl": "https://lh3.googleusercontent.com/a-/AOh14GhaxYh2M6u-1nBqxUSt69H9Cj0fQ8K3DeD4IdubBg=s64",
      "userId": "10464217958333572951"
     },
     "user_tz": -330
    },
    "id": "DjcJXaCysWOJ"
   },
   "outputs": [],
   "source": [
    "IMAGES_DIR = '/content/drive/MyDrive/ckplus'  # original image directory\n",
    "sadness_DIR = os.path.join(IMAGES_DIR, 'sadness')\n",
    "surprise_DIR = os.path.join(IMAGES_DIR, 'surprise')\n",
    "disgust_DIR = os.path.join(IMAGES_DIR, 'disgust')\n",
    "anger_DIR = os.path.join(IMAGES_DIR, 'anger')\n",
    "happiness_DIR = os.path.join(IMAGES_DIR, 'happiness')\n",
    "fear_DIR = os.path.join(IMAGES_DIR, 'fear')\n",
    "\n",
    "sadness_pts_DIR = os.path.join(IMAGES_DIR, 'sadness_pts')\n",
    "surprise_pts_DIR = os.path.join(IMAGES_DIR, 'surprise_pts')\n",
    "disgust_pts_DIR = os.path.join(IMAGES_DIR, 'disgust_pts')\n",
    "anger_pts_DIR = os.path.join(IMAGES_DIR, 'anger_pts')\n",
    "happiness_pts_DIR = os.path.join(IMAGES_DIR, 'happiness_pts')\n",
    "fear_pts_DIR = os.path.join(IMAGES_DIR, 'fear_pts')\n",
    "\n",
    "\n",
    "IMG_TYPE = 'png'  \n",
    "IMG_WIDTH = 224\n",
    "IMG_HEIGHT = 224"
   ]
  },
  {
   "cell_type": "code",
   "execution_count": null,
   "metadata": {
    "executionInfo": {
     "elapsed": 421,
     "status": "ok",
     "timestamp": 1639164786536,
     "user": {
      "displayName": "Mrinanka Dhar",
      "photoUrl": "https://lh3.googleusercontent.com/a-/AOh14GhaxYh2M6u-1nBqxUSt69H9Cj0fQ8K3DeD4IdubBg=s64",
      "userId": "10464217958333572951"
     },
     "user_tz": -330
    },
    "id": "S09CUW270011"
   },
   "outputs": [],
   "source": [
    "sadness_file_name_list = os.listdir(sadness_DIR)\n",
    "surprise_file_name_list = os.listdir(surprise_DIR) \n",
    "disgust_file_name_list = os.listdir(disgust_DIR) \n",
    "anger_file_name_list = os.listdir(anger_DIR) \n",
    "happiness_file_name_list = os.listdir(happiness_DIR) \n",
    "fear_file_name_list = os.listdir(fear_DIR) "
   ]
  },
  {
   "cell_type": "code",
   "execution_count": null,
   "metadata": {
    "executionInfo": {
     "elapsed": 432,
     "status": "ok",
     "timestamp": 1639173793055,
     "user": {
      "displayName": "Mrinanka Dhar",
      "photoUrl": "https://lh3.googleusercontent.com/a-/AOh14GhaxYh2M6u-1nBqxUSt69H9Cj0fQ8K3DeD4IdubBg=s64",
      "userId": "10464217958333572951"
     },
     "user_tz": -330
    },
    "id": "TdCrLtSqw_iR"
   },
   "outputs": [],
   "source": [
    "sadness_file_path_list = list(map(lambda x: os.path.join(sadness_DIR, x),sadness_file_name_list))\n",
    "surprise_file_path_list = list(map(lambda x: os.path.join(surprise_DIR, x), surprise_file_name_list))\n",
    "disgust_file_path_list = list(map(lambda x: os.path.join(disgust_DIR, x), disgust_file_name_list))\n",
    "anger_file_path_list = list(map(lambda x: os.path.join(anger_DIR, x), anger_file_name_list))\n",
    "happiness_file_path_list = list(map(lambda x: os.path.join(happiness_DIR, x), happiness_file_name_list))\n",
    "fear_file_path_list = list(map(lambda x: os.path.join(fear_DIR, x), fear_file_name_list))\n"
   ]
  },
  {
   "cell_type": "code",
   "execution_count": null,
   "metadata": {
    "executionInfo": {
     "elapsed": 481,
     "status": "ok",
     "timestamp": 1639173260572,
     "user": {
      "displayName": "Mrinanka Dhar",
      "photoUrl": "https://lh3.googleusercontent.com/a-/AOh14GhaxYh2M6u-1nBqxUSt69H9Cj0fQ8K3DeD4IdubBg=s64",
      "userId": "10464217958333572951"
     },
     "user_tz": -330
    },
    "id": "yTTOgZ3p1H96"
   },
   "outputs": [],
   "source": [
    "def main(imageRGB,file_name,opdir):\n",
    "\n",
    "  file_name=file_name.replace('.png','')\n",
    "  \n",
    "  # Now this line will try to detect all faces in an image either 1 or 2 or more faces\n",
    "  allFaces = frontalFaceDetector(imageRGB, 0)\n",
    "  # List to store landmarks of all detected faces\n",
    "  allFacesLandmark = []\n",
    "\n",
    "\n",
    "\n",
    "  OUTPUT_DIR='/content/drive/MyDrive/output/'+ opdir\n",
    "\n",
    "  # Below loop we will use to detect all faces one by one and apply landmarks on them\n",
    "\n",
    "  for k in range(0, len(allFaces)):\n",
    "      # dlib rectangle class will detecting face so that landmark can apply inside of that area\n",
    "      faceRectangleDlib = dlib.rectangle(int(allFaces[k].left()),int(allFaces[k].top()),\n",
    "        int(allFaces[k].right()),int(allFaces[k].bottom()))\n",
    "\n",
    "      # Now we are running loop on every detected face and putting landmark on that with the help of faceLandmarkDetector\n",
    "      detectedLandmarks = faceLandmarkDetector(imageRGB, faceRectangleDlib)\n",
    "\n",
    "      # count number of landmarks we actually detected on image\n",
    "      if k==0:\n",
    "          print(\"Total number of face landmarks detected \",len(detectedLandmarks.parts()))\n",
    "\n",
    "      # Svaing the landmark one by one to the output folder\n",
    "      allFacesLandmark.append(detectedLandmarks)\n",
    "\n",
    "      # Now finally we drawing landmarks on face\n",
    "      facePoints(imageRGB, detectedLandmarks)\n",
    "\n",
    "      fileName = OUTPUT_DIR + file_name + \".txt\"\n",
    "      print(\"Lanmdark is save into \", fileName)\n",
    "\n",
    "      # Write landmarks to disk\n",
    "      writeFaceLandmarksToLocalFile(detectedLandmarks, fileName)\n",
    "\n",
    "      outputNameofImage = OUTPUT_DIR + file_name + \".png\"\n",
    "      print(\"Saving output image to\", outputNameofImage)\n",
    "      cv2.imwrite(outputNameofImage, imageRGB)\n",
    "      io.imshow( imageRGB)\n",
    "\n"
   ]
  },
  {
   "cell_type": "markdown",
   "metadata": {
    "id": "x3aZ6yxj6FX-"
   },
   "source": [
    "Start"
   ]
  },
  {
   "cell_type": "code",
   "execution_count": null,
   "metadata": {
    "executionInfo": {
     "elapsed": 1905,
     "status": "ok",
     "timestamp": 1639169363768,
     "user": {
      "displayName": "Mrinanka Dhar",
      "photoUrl": "https://lh3.googleusercontent.com/a-/AOh14GhaxYh2M6u-1nBqxUSt69H9Cj0fQ8K3DeD4IdubBg=s64",
      "userId": "10464217958333572951"
     },
     "user_tz": -330
    },
    "id": "BKoOWnQG2slZ"
   },
   "outputs": [],
   "source": [
    "# Getting all the images in the form of array\n",
    "sadness_image_array = load_images(sadness_file_path_list, width=IMG_WIDTH, height=IMG_HEIGHT)\n",
    "surprise_image_array = load_images(surprise_file_path_list, width=IMG_WIDTH, height=IMG_HEIGHT)\n",
    "disgust_image_array = load_images(disgust_file_path_list, width=IMG_WIDTH, height=IMG_HEIGHT)\n",
    "anger_image_array = load_images(anger_file_path_list, width=IMG_WIDTH, height=IMG_HEIGHT)\n",
    "happiness_image_array = load_images(happiness_file_path_list, width=IMG_WIDTH, height=IMG_HEIGHT)\n",
    "fear_image_array = load_images(fear_file_path_list, width=IMG_WIDTH, height=IMG_HEIGHT)"
   ]
  },
  {
   "cell_type": "code",
   "execution_count": null,
   "metadata": {
    "executionInfo": {
     "elapsed": 492,
     "status": "ok",
     "timestamp": 1639172393372,
     "user": {
      "displayName": "Mrinanka Dhar",
      "photoUrl": "https://lh3.googleusercontent.com/a-/AOh14GhaxYh2M6u-1nBqxUSt69H9Cj0fQ8K3DeD4IdubBg=s64",
      "userId": "10464217958333572951"
     },
     "user_tz": -330
    },
    "id": "8K0UkKEhIles"
   },
   "outputs": [],
   "source": [
    "#Making Directory to save Result\n",
    "os.makedirs('/content/drive/MyDrive/output/sadness')\n",
    "os.makedirs('/content/drive/MyDrive/output/surprise')\n",
    "os.makedirs('/content/drive/MyDrive/output/disgust')\n",
    "os.makedirs('/content/drive/MyDrive/output/anger')\n",
    "os.makedirs('/content/drive/MyDrive/output/happiness')\n",
    "os.makedirs('/content/drive/MyDrive/output/fear')"
   ]
  },
  {
   "cell_type": "code",
   "execution_count": null,
   "metadata": {
    "colab": {
     "base_uri": "https://localhost:8080/",
     "height": 1000
    },
    "executionInfo": {
     "elapsed": 38824,
     "status": "ok",
     "timestamp": 1639173331123,
     "user": {
      "displayName": "Mrinanka Dhar",
      "photoUrl": "https://lh3.googleusercontent.com/a-/AOh14GhaxYh2M6u-1nBqxUSt69H9Cj0fQ8K3DeD4IdubBg=s64",
      "userId": "10464217958333572951"
     },
     "user_tz": -330
    },
    "id": "rqaFSkqC7BOF",
    "outputId": "7b420b8b-7776-4b99-daf0-f3efbfc95e1d"
   },
   "outputs": [],
   "source": [
    "#Finally calling main to draw landmark and to save landmark Text file.\n",
    "for i in range(len(sadness_image_array)):\n",
    "  main(sadness_image_array[i],sadness_file_name_list[i], 'sadness/')\n",
    "\n",
    "for i in range(len(surprise_image_array)):\n",
    "  main(surprise_image_array[i],surprise_file_name_list[i],'surprise/')\n",
    "\n",
    "for i in range(len(disgust_image_array)):\n",
    "  main(disgust_image_array[i],disgust_file_name_list[i],'disgust/')\n",
    "\n",
    "for i in range(len(anger_image_array)):\n",
    "  main(anger_image_array[i],anger_file_name_list[i],'anger/')\n",
    "\n",
    "for i in range(len(happiness_image_array)):\n",
    "  main(happiness_image_array[i],happiness_file_name_list[i],'happiness/')\n",
    "\n",
    "for i in range(len(fear_image_array)):\n",
    "  main(fear_image_array[i],fear_file_name_list[i],'fear/')"
   ]
  },
  {
   "cell_type": "code",
   "execution_count": null,
   "metadata": {
    "id": "L2JGi6ISKecQ"
   },
   "outputs": [],
   "source": []
  },
  {
   "cell_type": "code",
   "execution_count": null,
   "metadata": {
    "id": "VnBvP9QVKegP"
   },
   "outputs": [],
   "source": []
  },
  {
   "cell_type": "code",
   "execution_count": null,
   "metadata": {
    "executionInfo": {
     "elapsed": 664,
     "status": "ok",
     "timestamp": 1639171147564,
     "user": {
      "displayName": "Mrinanka Dhar",
      "photoUrl": "https://lh3.googleusercontent.com/a-/AOh14GhaxYh2M6u-1nBqxUSt69H9Cj0fQ8K3DeD4IdubBg=s64",
      "userId": "10464217958333572951"
     },
     "user_tz": -330
    },
    "id": "exZVN-umKelY"
   },
   "outputs": [],
   "source": []
  }
 ],
 "metadata": {
  "colab": {
   "authorship_tag": "ABX9TyPR45vQVrJdnqoutZRyu3MP",
   "collapsed_sections": [],
   "mount_file_id": "1mZBzPl10rEfvbkKhs4edNmNP7lnGBvRD",
   "name": "Landmark Implement.ipynb",
   "provenance": []
  },
  "kernelspec": {
   "display_name": "Python 3",
   "language": "python",
   "name": "python3"
  },
  "language_info": {
   "codemirror_mode": {
    "name": "ipython",
    "version": 3
   },
   "file_extension": ".py",
   "mimetype": "text/x-python",
   "name": "python",
   "nbconvert_exporter": "python",
   "pygments_lexer": "ipython3",
   "version": "3.8.8"
  }
 },
 "nbformat": 4,
 "nbformat_minor": 1
}
